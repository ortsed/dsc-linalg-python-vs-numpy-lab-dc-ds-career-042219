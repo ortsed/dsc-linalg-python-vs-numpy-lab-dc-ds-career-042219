{
 "cells": [
  {
   "cell_type": "markdown",
   "metadata": {},
   "source": [
    "# Pure Python vs. Numpy - Lab\n",
    "\n",
    "## Introduction \n",
    "\n",
    "Numpy, Scipy and Pandas provide a significant increase in computational efficiency with complex mathematical operations as compared to Python's built in arithmetic functions. In this lab, you will calculate and compare the processing speed required for calculating a dot product using both basic arithmetic operations in Python and Numpy's `.dot()` method. \n",
    "\n",
    "## Objectives\n",
    "You will be able to:\n",
    "* Compare the performance of high-dimensional matrix operations in Numpy vs. pure Python\n",
    "\n",
    "## Problem \n",
    "\n",
    "Write a routine to calculate the dot product between two $200 \\times 200$ dimensional matrices using:\n",
    "\n",
    "a) Pure Python (no libraries)\n",
    "\n",
    "b) Numpy's `.dot()`\n",
    "\n",
    "\n",
    "### Create two $200 \\times 200$ matrices in Python and fill them with random values using `np.random.rand()` "
   ]
  },
  {
   "cell_type": "code",
   "execution_count": 1,
   "metadata": {},
   "outputs": [],
   "source": [
    "# Compare 200x200 matrix-matrix multiplication speed\n",
    "import numpy as np\n",
    "\n",
    "# Set up the variables\n",
    "A = np.random.rand(200,200)\n",
    "B = np.random.rand(200,200)"
   ]
  },
  {
   "cell_type": "code",
   "execution_count": null,
   "metadata": {},
   "outputs": [],
   "source": []
  },
  {
   "cell_type": "markdown",
   "metadata": {},
   "source": [
    "## Pure Python\n",
    "\n",
    "* Initialize a zeros-filled `numpy` matrix\n",
    "* In Python, calculate the dot product using the formula \n",
    "\n",
    "\n",
    "$$ \\large C_{i,j}= \\sum_k A_{i,k}B_{k,j}$$\n",
    "\n",
    "\n",
    "* Use Python's `timeit` library to calculate the processing time\n",
    "* [Visit this link](https://www.pythoncentral.io/time-a-python-function/) for an in-depth explanation on how to time a function or routine in python\n",
    "\n",
    "**Hint**: Use a nested for loop for accessing, calculating and storing each scalar value in the resulting matrix"
   ]
  },
  {
   "cell_type": "code",
   "execution_count": 2,
   "metadata": {},
   "outputs": [],
   "source": [
    "import timeit"
   ]
  },
  {
   "cell_type": "code",
   "execution_count": null,
   "metadata": {},
   "outputs": [],
   "source": [
    "\n",
    "\n",
    "# Start the timer\n",
    "\n",
    "def manual_dot():\n",
    "    C = np.ones((200,200))\n",
    "    for i  in range(200):\n",
    "        for j in range(200):\n",
    "            for k in range(200):\n",
    "                C[i][j] +=  A[i][k] * B[k][i]\n",
    "    print(C)\n",
    "start = timeit.timeit(manual_dot, number=1)\n",
    "\n",
    "# Matrix multiplication in pure Python\n",
    "\n",
    "\n",
    "print('Pure Python Time:', start, 'sec.')"
   ]
  },
  {
   "cell_type": "markdown",
   "metadata": {},
   "source": [
    "## Numpy \n",
    "Set the timer and calculate the time taken by `.dot()` function for multiplying $A$ and $B$ \n"
   ]
  },
  {
   "cell_type": "code",
   "execution_count": 6,
   "metadata": {},
   "outputs": [
    {
     "name": "stdout",
     "output_type": "stream",
     "text": [
      "[[54.02110895 48.24459286 51.87155001 ... 54.65013319 45.77253767\n",
      "  49.10929493]\n",
      " [54.07624089 50.55351068 52.7029923  ... 55.93769501 47.21014337\n",
      "  50.89867092]\n",
      " [50.85435887 44.77618462 47.69724905 ... 49.98588976 44.28632393\n",
      "  47.51603517]\n",
      " ...\n",
      " [49.29060042 42.82083306 46.8492821  ... 50.6562204  41.38838385\n",
      "  45.83835983]\n",
      " [57.09943066 54.22204577 56.64483043 ... 58.10806482 49.6556116\n",
      "  54.28325172]\n",
      " [50.1594938  46.70392862 50.44833899 ... 51.69542222 45.65189839\n",
      "  48.85633055]]\n",
      "Pure Python Time: 0.002668987959623337 sec.\n"
     ]
    }
   ],
   "source": [
    "import timeit\n",
    "\n",
    "# Start the timer\n",
    "\n",
    "def npdot():\n",
    "    print(A.dot(B))\n",
    "\n",
    "start = timeit.timeit(npdot, number=1)\n",
    "\n",
    "# Matrix multiplication in pure Python\n",
    "\n",
    "\n",
    "print('Pure Python Time:', start, 'sec.')"
   ]
  },
  {
   "cell_type": "code",
   "execution_count": 7,
   "metadata": {},
   "outputs": [
    {
     "data": {
      "text/plain": [
       "200"
      ]
     },
     "execution_count": 7,
     "metadata": {},
     "output_type": "execute_result"
    }
   ],
   "source": [
    "len(A.dot(B))"
   ]
  },
  {
   "cell_type": "markdown",
   "metadata": {},
   "source": [
    "### Your comments \n",
    "\n",
    "\n",
    "```\n",
    "```\n",
    "\n",
    "## Summary\n",
    "\n",
    "In this lab, you performed a quick comparison between calculating a dot product in Numpy vs Python built in function. You saw that Numpy is computationally much more efficient that Python code because of the sophisticated implementation of Numpy source code. You're encouraged to always perform time tests to fully appreciate the use of an additional library in Python. "
   ]
  }
 ],
 "metadata": {
  "kernelspec": {
   "display_name": "Python 3",
   "language": "python",
   "name": "python3"
  },
  "language_info": {
   "codemirror_mode": {
    "name": "ipython",
    "version": 3
   },
   "file_extension": ".py",
   "mimetype": "text/x-python",
   "name": "python",
   "nbconvert_exporter": "python",
   "pygments_lexer": "ipython3",
   "version": "3.6.6"
  }
 },
 "nbformat": 4,
 "nbformat_minor": 2
}
